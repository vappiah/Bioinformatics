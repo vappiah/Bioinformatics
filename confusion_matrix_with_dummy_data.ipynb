{
  "nbformat": 4,
  "nbformat_minor": 0,
  "metadata": {
    "colab": {
      "name": "Untitled5.ipynb",
      "provenance": [],
      "authorship_tag": "ABX9TyNmC6q2yM1vdy4yEYPXLczI",
      "include_colab_link": true
    },
    "kernelspec": {
      "name": "python3",
      "display_name": "Python 3"
    },
    "language_info": {
      "name": "python"
    }
  },
  "cells": [
    {
      "cell_type": "markdown",
      "metadata": {
        "id": "view-in-github",
        "colab_type": "text"
      },
      "source": [
        "<a href=\"https://colab.research.google.com/github/vappiah/Bioinformatics/blob/master/confusion_matrix_with_dummy_data.ipynb\" target=\"_parent\"><img src=\"https://colab.research.google.com/assets/colab-badge.svg\" alt=\"Open In Colab\"/></a>"
      ]
    },
    {
      "cell_type": "code",
      "metadata": {
        "id": "7nO9371D8U9K"
      },
      "source": [
        "import numpy as np\n",
        "import matplotlib.pyplot as plt\n",
        "from sklearn.datasets import make_classification\n",
        "from sklearn.metrics import plot_confusion_matrix\n",
        "from sklearn.model_selection import train_test_split\n",
        "from sklearn.svm import SVC\n"
      ],
      "execution_count": 14,
      "outputs": []
    },
    {
      "cell_type": "code",
      "metadata": {
        "id": "1kyEc-cY9RnG"
      },
      "source": [
        "#generate a dummy dataset\n",
        "X,y=make_classification()"
      ],
      "execution_count": 6,
      "outputs": []
    },
    {
      "cell_type": "code",
      "metadata": {
        "id": "qYhXbB5m9oqn"
      },
      "source": [
        "#split the dataset into train and test set\n",
        "X_train,X_test,y_train,y_test=train_test_split(X,y)"
      ],
      "execution_count": null,
      "outputs": []
    },
    {
      "cell_type": "code",
      "metadata": {
        "id": "ZCL2Tohh9ssZ"
      },
      "source": [
        "#call the classifier. here we use supplort vector machines\n",
        "clf=SVC()\n",
        "\n",
        "#train the classifier using the train set\n",
        "clf.fit(X_train,y_train)\n"
      ],
      "execution_count": null,
      "outputs": []
    },
    {
      "cell_type": "code",
      "metadata": {
        "colab": {
          "base_uri": "https://localhost:8080/",
          "height": 283
        },
        "id": "wkl_hTYL-Cav",
        "outputId": "4907b33c-cb8f-4d9f-f482-db9e5478c340"
      },
      "source": [
        "#plot the confusion matrix. \n",
        "#this process involves the model making its own prediction and then comparing that to the true labels(i.e y_test)\n",
        "\n",
        "plot_confusion_matrix(clf,X_test,y_test,cmap='Blues',display_labels=['label1','label2'])\n",
        "plt.show()"
      ],
      "execution_count": 20,
      "outputs": [
        {
          "output_type": "display_data",
          "data": {
            "image/png": "[encoded data removed]",
            "text/plain": [
              "<Figure size 432x288 with 2 Axes>"
            ]
          },
          "metadata": {
            "needs_background": "light"
          }
        }
      ]
    }
  ]
}