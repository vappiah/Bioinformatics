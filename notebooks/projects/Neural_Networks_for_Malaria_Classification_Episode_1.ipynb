{
  "cells": [
    {
      "cell_type": "markdown",
      "metadata": {
        "id": "view-in-github",
        "colab_type": "text"
      },
      "source": [
        "<a href=\"https://colab.research.google.com/github/vappiah/Bioinformatics/blob/master/notebooks/projects/Neural_Networks_for_Malaria_Classification_Episode_1.ipynb\" target=\"_parent\"><img src=\"https://colab.research.google.com/assets/colab-badge.svg\" alt=\"Open In Colab\"/></a>"
      ]
    },
    {
      "cell_type": "markdown",
      "id": "b05c990e",
      "metadata": {
        "id": "b05c990e"
      },
      "source": [
        "# Predict Malaria outcomes using Neural Network "
      ]
    },
    {
      "cell_type": "markdown",
      "id": "dc8384d4",
      "metadata": {
        "id": "dc8384d4"
      },
      "source": [
        "The data used for this tutorial was obtained from this study: \n",
        "Morang’a, C.M., Amenga–Etego, L., Bah, S.Y. et al. Machine learning approaches classify clinical malaria outcomes based on haematological parameters. BMC Med 18, 375 (2020). https://doi.org/10.1186/s12916-020-01823-3"
      ]
    },
    {
      "cell_type": "markdown",
      "id": "5d7202fe",
      "metadata": {
        "id": "5d7202fe"
      },
      "source": [
        "## Required Libraries\n",
        " - numpy\n",
        " - matplotlib\n",
        " - pandas\n",
        " - tensorflow\n",
        " - keras\n",
        " - scikit-learn"
      ]
    },
    {
      "cell_type": "markdown",
      "id": "91f3dde3",
      "metadata": {
        "id": "91f3dde3"
      },
      "source": [
        "## Import Python libraries"
      ]
    },
    {
      "cell_type": "code",
      "execution_count": null,
      "id": "a0515dec",
      "metadata": {
        "id": "a0515dec"
      },
      "outputs": [],
      "source": [
        "#data handling\n",
        "import pandas as pd\n",
        "import numpy as np\n",
        "\n",
        "#data visualization\n",
        "import matplotlib.pyplot as plt\n",
        "import seaborn as sns\n",
        "\n",
        "#preprocessing\n",
        "from sklearn.model_selection import train_test_split\n",
        "from sklearn.preprocessing import LabelEncoder,label_binarize\n",
        "from sklearn.preprocessing import MinMaxScaler\n",
        "\n",
        "#classification\n",
        "import tensorflow as tf\n",
        "from tensorflow import keras\n",
        "from keras.models import Sequential\n",
        "from keras.layers import Dense"
      ]
    },
    {
      "cell_type": "markdown",
      "id": "b45976a3",
      "metadata": {
        "id": "b45976a3"
      },
      "source": [
        "## Read data"
      ]
    },
    {
      "cell_type": "code",
      "execution_count": null,
      "id": "25a5cb29",
      "metadata": {
        "id": "25a5cb29"
      },
      "outputs": [],
      "source": [
        "#set path to the data file.\n",
        "data_file='https://raw.githubusercontent.com/vappiah/Machine-Learning-Tutorials/main/datasets/malaria_clin_data.csv'\n",
        "\n",
        "#read the data with pandas\n",
        "dataframe=pd.read_csv(data_file)"
      ]
    },
    {
      "cell_type": "markdown",
      "id": "e214ad93",
      "metadata": {
        "id": "e214ad93"
      },
      "source": [
        "\n",
        "## Data Exploration & Cleaning\n",
        "\n",
        "\n"
      ]
    },
    {
      "cell_type": "code",
      "execution_count": null,
      "id": "e25fad0e",
      "metadata": {
        "id": "e25fad0e"
      },
      "outputs": [],
      "source": [
        "#find the number of rows and columns in the dataframe\n",
        "dataframe.shape"
      ]
    },
    {
      "cell_type": "code",
      "execution_count": null,
      "id": "d4b24df6",
      "metadata": {
        "id": "d4b24df6"
      },
      "outputs": [],
      "source": [
        "#get the first n rows in the dataframe\n",
        "dataframe.head(n=5)"
      ]
    },
    {
      "cell_type": "code",
      "execution_count": null,
      "id": "12beaf35",
      "metadata": {
        "id": "12beaf35"
      },
      "outputs": [],
      "source": [
        "# list the column names\n",
        "dataframe.columns"
      ]
    },
    {
      "cell_type": "code",
      "execution_count": null,
      "id": "f87ab7a0",
      "metadata": {
        "id": "f87ab7a0"
      },
      "outputs": [],
      "source": [
        "#we are interested in the columns : 'Clinical_diagnosis' up to 'RBC_dist_width_Percent'\n",
        "#meaning we will subset the data from column 16 - the last column\n",
        "subset=dataframe.iloc[:,16:]"
      ]
    },
    {
      "cell_type": "code",
      "execution_count": null,
      "id": "f4641a88",
      "metadata": {
        "id": "f4641a88"
      },
      "outputs": [],
      "source": [
        "# handling missing values\n",
        "# drop / remove all rows with missing values\n",
        "subset.dropna(inplace=True)"
      ]
    },
    {
      "cell_type": "code",
      "execution_count": null,
      "id": "39a66c55",
      "metadata": {
        "id": "39a66c55"
      },
      "outputs": [],
      "source": [
        "#Let us get the different malaria outcomes. \n",
        "#The outcomes will be our labels/classes in the data\n",
        "\n",
        "subset['Clinical_Diagnosis'].unique()"
      ]
    },
    {
      "cell_type": "markdown",
      "id": "7a0e165b",
      "metadata": {
        "id": "7a0e165b"
      },
      "source": [
        " \n",
        "## **Data preprocesing** \n",
        "This is done to put the data in an appropriate format before modelling\n"
      ]
    },
    {
      "cell_type": "code",
      "execution_count": null,
      "id": "a13b9f51",
      "metadata": {
        "id": "a13b9f51"
      },
      "outputs": [],
      "source": [
        "# separate the labels/classes from the features/measurement\n",
        "X=subset.iloc[:,1:]\n",
        "y=subset.iloc[:,0]"
      ]
    },
    {
      "cell_type": "markdown",
      "id": "264a01cb",
      "metadata": {
        "id": "264a01cb"
      },
      "source": [
        "\\\n",
        "**Encode labels**\n",
        "\n",
        "The labels for this data are categorical and we therefore have to convert them to numeric forms. This is referred to as encoding. Machine learning models usually require input data to be in numeric forms, hence we encoding the labels."
      ]
    },
    {
      "cell_type": "code",
      "execution_count": null,
      "id": "b251f08b",
      "metadata": {
        "id": "b251f08b"
      },
      "outputs": [],
      "source": [
        "#let's encode target labels (y). We will use onehot encoding.\n",
        "\n",
        "label_encoder=LabelEncoder()\n",
        "label_encoder.fit(y)\n",
        "y=label_encoder.transform(y)\n",
        "labels=label_encoder.classes_\n",
        "classes=np.unique(y)\n",
        "y=label_binarize(y,classes=np.unique(y))\n",
        "nclasses=y.shape[1]"
      ]
    },
    {
      "cell_type": "markdown",
      "id": "0d1c8d5e",
      "metadata": {
        "id": "0d1c8d5e"
      },
      "source": [
        "\\\n",
        "**Data Normalization**\\\n",
        "Data normalization is done so that the values are in the same range. This will improve model performance and avoid bias"
      ]
    },
    {
      "cell_type": "code",
      "execution_count": null,
      "id": "b7fc9256",
      "metadata": {
        "id": "b7fc9256"
      },
      "outputs": [],
      "source": [
        "### scale the data between 0-1"
      ]
    },
    {
      "cell_type": "code",
      "execution_count": null,
      "id": "4a06d2f6",
      "metadata": {
        "id": "4a06d2f6"
      },
      "outputs": [],
      "source": [
        "min_max_scaler=MinMaxScaler()\n",
        "X=min_max_scaler.fit_transform(X)"
      ]
    },
    {
      "cell_type": "markdown",
      "id": "5f68c4f6",
      "metadata": {
        "id": "5f68c4f6"
      },
      "source": [
        "\\\n",
        "**Data Splitting**\\\n",
        "Data is split into three: training, validation and test sets\\\n",
        "-training set is used for training.\\\n",
        "-validation set is used for evaluating the model during training.\\\n",
        "-test set is used to test the model after training and tuning has been completed."
      ]
    },
    {
      "cell_type": "code",
      "execution_count": null,
      "id": "7bcc2bde",
      "metadata": {
        "id": "7bcc2bde"
      },
      "outputs": [],
      "source": [
        "#split data into training,validation and test sets\n",
        "\n",
        "#split the data into training and test sets\n",
        "X_train,X_test,y_train,y_test=train_test_split(X,y,test_size=0.2)\n",
        "\n",
        "#split the training set into two (training and validation)\n",
        "X_train, X_val, y_train, y_val = train_test_split(X_train,y_train,test_size=0.2)"
      ]
    },
    {
      "cell_type": "markdown",
      "id": "7a1736a7",
      "metadata": {
        "id": "7a1736a7"
      },
      "source": [
        "  "
      ]
    },
    {
      "cell_type": "markdown",
      "id": "c0f0ba2c",
      "metadata": {
        "id": "c0f0ba2c"
      },
      "source": [
        "## Build the Neural Network Model"
      ]
    },
    {
      "cell_type": "code",
      "execution_count": null,
      "id": "f0f5060f",
      "metadata": {
        "scrolled": false,
        "id": "f0f5060f"
      },
      "outputs": [],
      "source": [
        "#define model\n",
        "model = Sequential()\n",
        "\n",
        "#hidden layer 1\n",
        "model.add(Dense(40, input_dim=X_train.shape[1], activation='relu'))\n",
        "\n",
        "#hidden layer 2\n",
        "model.add(Dense(20, activation='relu'))\n",
        "\n",
        "#output layer\n",
        "model.add(Dense(nclasses, activation='softmax'))\n",
        "\n",
        "#define optimizer and learning rate. We will use Adam optimizer\n",
        "opt_adam = keras.optimizers.Adam(learning_rate=0.001)\n",
        "\n",
        "model.compile(loss=tf.keras.losses.CategoricalCrossentropy(), optimizer=opt_adam, metrics=[keras.metrics.CategoricalAccuracy()])\n"
      ]
    },
    {
      "cell_type": "code",
      "execution_count": null,
      "id": "080eb398",
      "metadata": {
        "scrolled": false,
        "id": "080eb398"
      },
      "outputs": [],
      "source": [
        "#fit the model to the training data\n",
        "history = model.fit(X_train, y_train, validation_data=(X_val, y_val), batch_size=32,epochs=200, verbose=1)\n"
      ]
    },
    {
      "cell_type": "code",
      "execution_count": null,
      "id": "2aaaeae3",
      "metadata": {
        "id": "2aaaeae3"
      },
      "outputs": [],
      "source": [
        "# summarize history for accuracy\n",
        "plt.plot(history.history['categorical_accuracy'])\n",
        "plt.plot(history.history['val_categorical_accuracy'])\n",
        "plt.title('model performance')\n",
        "plt.ylabel('accuracy')\n",
        "plt.xlabel('epoch')\n",
        "plt.legend(['train', 'val'], loc='lower right')\n",
        "plt.show()"
      ]
    },
    {
      "cell_type": "code",
      "execution_count": null,
      "id": "21228dd9",
      "metadata": {
        "scrolled": false,
        "id": "21228dd9"
      },
      "outputs": [],
      "source": [
        "# summarize history for loss\n",
        "plt.plot(history.history['loss'])\n",
        "plt.plot(history.history['val_loss'])\n",
        "plt.title('model loss')\n",
        "plt.ylabel('loss')\n",
        "plt.xlabel('epoch')\n",
        "plt.legend(['train', 'val'], loc='lower right')\n",
        "plt.show()"
      ]
    },
    {
      "cell_type": "markdown",
      "id": "6684e79d",
      "metadata": {
        "id": "6684e79d"
      },
      "source": [
        "## Predict on data \n",
        "Let's use our trained model to classify some samples which were not included in the training or validation sets. This data is the test set."
      ]
    }
  ],
  "metadata": {
    "kernelspec": {
      "display_name": "Python 3 (ipykernel)",
      "language": "python",
      "name": "python3"
    },
    "language_info": {
      "codemirror_mode": {
        "name": "ipython",
        "version": 3
      },
      "file_extension": ".py",
      "mimetype": "text/x-python",
      "name": "python",
      "nbconvert_exporter": "python",
      "pygments_lexer": "ipython3",
      "version": "3.8.10"
    },
    "colab": {
      "name": "Neural_Networks_for_Malaria Classification_Episode_1.ipynb",
      "provenance": [],
      "include_colab_link": true
    }
  },
  "nbformat": 4,
  "nbformat_minor": 5
}